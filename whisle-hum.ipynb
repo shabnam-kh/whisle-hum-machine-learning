{
  "nbformat": 4,
  "nbformat_minor": 0,
  "metadata": {
    "colab": {
      "provenance": []
    },
    "kernelspec": {
      "name": "python3",
      "display_name": "Python 3"
    },
    "language_info": {
      "name": "python"
    }
  },
  "cells": [
    {
      "cell_type": "markdown",
      "metadata": {
        "id": "ExIp9YpZFj-T"
      },
      "source": [
        "# 1 Author\n",
        "\n",
        "**Student Name**:  Shabnam Khodadadi\n",
        "\n",
        "**Student ID**:  210936704\n",
        "\n"
      ]
    },
    {
      "cell_type": "markdown",
      "metadata": {
        "id": "vI3kO3CEFoZE"
      },
      "source": [
        "# 2 Problem formulation\n",
        "We want to predict the name of the song for each hum/whistle audio file, It is so interesting as all of us have experience of humming/whistling a song and we don't know the name of the song so we cant search it on the internet and download it, it just stuck in our head all day long because we have heard it somewhere in the past but we don't know the name of it. our problem is multi-class supervised classification as we have 8 different labels and a dataset of hum/whistle audio files which has labels already."
      ]
    },
    {
      "cell_type": "markdown",
      "metadata": {
        "id": "OiK_HQTFFtvs"
      },
      "source": [
        "# 3 Machine Learning pipeline\n",
        "1.   Collecting the data\n",
        ", we collected the audio files which are recorded by a person humming/whistling the 8 different songs.\n",
        "- analyzing data, this step is already done in starter kit so we dont have it here\n",
        "2.   Preprocessing data\n",
        ", we have a structure for naming the files but some people do typos in naming the files, as we need the file names to distinguish the audio file label(song name) so we need to convert it to the right format, this process is done in preprocess_file_names function, the input is the name of our files and the output is the data frame which consists of correct file_name as an index and some information as like as song name which is extracted from the formatted filename\n",
        "3.   Feature selection, the input is a raw audio signal which is consisting of hundreds of thousands of dimensions, the output is a NumPy array that consist of 5 float value features, and an int value label\n",
        "4.   Feature normalization, Since the range of values of raw data, varies widely we normalize the data by standard deviation and mean, the input is our features and the output is the normalized features\n",
        "5. Split the data, we split the data to train and validate in order to train and validate our models, the input is the array of samples with features and the labels array\n",
        "6. Model selection, we should choose a method that is suitable for our problem and data, our problem is supervised multi-label classification and we have a balanced data of approx 3000 samples with 5 features and 8 labels, the output is a list of proper classification methods\n",
        "7. Model Training, the input is a list of candidate models from step 6 which we train them with our train data and the data is a list of fittel models\n",
        "8. Evaluation method selection, we aim to predict the name of each song it seems that accuracy will be suitable for evaluation, In addition, we use the ROC curve to compare our model with the random model\n",
        "9. Model evaluation, evaluate the trained models(output of step 7) with the evaluation data(output of step 5) and choose the best model with our evaluation method(output of step 8)\n",
        "\n",
        "10. Test the model with unseen data\n",
        "\n"
      ]
    },
    {
      "cell_type": "markdown",
      "metadata": {
        "id": "ozaQxeuIFyUW"
      },
      "source": [
        "# 4 Transformation stage\n",
        "The raw audio signal has a thousand million dimensional predictor space and we have limited samples(approx 3000) which is not enough for these high dimension features. it will cause the model to overfit so we should extract some features .first we should search that what kind of features we can extract from the sound data, related to the recent papers in this area the proper features are: Zero Crossing Rate, Spectral Centroid, Spectral Rolloff, MFCC. But seems that our case is a bit different because our data is the human humming/whistling records, not the studio song records so we should search for something more specific and we find: pitch, tempo and power. Finally, we decide to extract 5 features from our samples, power, pitch mean, pitch std, voice fraction and zero crossings. Also, there is another point which is feature correlation, that we should remove the features that have a correlation with another which causes misclassification in our model, but we don't have enough knowledge about signal so we didn't have it in our pipeline. Finally, we apply normalization to the features using sklearn StandardScaler tool which normalizes the data based on mean and standard deviation"
      ]
    },
    {
      "cell_type": "markdown",
      "metadata": {
        "id": "w5vQ3KbqF-bm"
      },
      "source": [
        "# 5 Modelling\n",
        "\n",
        "Time to select the proper model based on our dataset and problem. our problem is multi-class and we know that our data is balanced means that a similar number of samples are in each class. We choose a list of candidate models to implement and then come to the conclusion which one is better for our situation. The models are [SVM, DecisionTree, RandomForest, GradientBoostingClassifier, LogisticRegression]"
      ]
    },
    {
      "cell_type": "markdown",
      "metadata": {
        "id": "r9K-Tu6cGCQv"
      },
      "source": [
        "# 6 Methodology\n",
        "To divide the samples to train/validate we use the k-fold cross-validation method. it will split the data to k folds then put k-1 folds for train and the remaining fold for evaluation. To assess model performance we use both accuracy and ROC. as we aim to predict the name of each song it seems that accuracy will be suitable for evaluation, In addition, we use the ROC curve to compare our model with the random model"
      ]
    },
    {
      "cell_type": "markdown",
      "metadata": {
        "id": "n44DC463GGLf"
      },
      "source": [
        "# 7 Dataset\n",
        "Our dataset is cosist of 3000 audio files which is the human records of whistling/humming the 8 different songs.the detail of preprocessing the data is in the following sections"
      ]
    },
    {
      "cell_type": "markdown",
      "source": [
        "\n",
        "\n",
        "> 7.1\n",
        "import required libraries\n",
        "\n"
      ],
      "metadata": {
        "id": "HhBiMgSZLGNt"
      }
    },
    {
      "cell_type": "code",
      "source": [
        "from google.colab import drive\n",
        "\n",
        "import numpy as np\n",
        "import pandas as pd\n",
        "import matplotlib.pyplot as plt\n",
        "\n",
        "import os, sys, re, pickle, glob\n",
        "import urllib.request\n",
        "import zipfile\n",
        "\n",
        "import IPython.display as ipd\n",
        "from tqdm import tqdm\n",
        "import librosa\n",
        "from sklearn.model_selection import train_test_split\n",
        "from sklearn import svm, datasets\n"
      ],
      "metadata": {
        "id": "ulCLZo1NyxWC"
      },
      "execution_count": null,
      "outputs": []
    },
    {
      "cell_type": "markdown",
      "source": [
        "\n",
        "\n",
        "> 7.2\n",
        "mount google drive to store our files there \n",
        "\n"
      ],
      "metadata": {
        "id": "VZpCjj1oLOyL"
      }
    },
    {
      "cell_type": "code",
      "execution_count": null,
      "metadata": {
        "id": "wPYQeCyEzKpK",
        "colab": {
          "base_uri": "https://localhost:8080/"
        },
        "outputId": "f71efb4b-b833-4f4e-8edd-6d8da284e771"
      },
      "outputs": [
        {
          "output_type": "stream",
          "name": "stdout",
          "text": [
            "Mounted at /content/drive\n"
          ]
        }
      ],
      "source": [
        "drive.mount('/content/drive')\n",
        "def download_url(url, save_path):\n",
        "    with urllib.request.urlopen(url) as dl_file:\n",
        "        with open(save_path, 'wb') as out_file:\n",
        "            out_file.write(dl_file.read())"
      ]
    },
    {
      "cell_type": "markdown",
      "source": [
        "\n",
        "\n",
        "> 7.3\n",
        "download the files and store them in google drive\n",
        "\n"
      ],
      "metadata": {
        "id": "aFzlZIdeTzGl"
      }
    },
    {
      "cell_type": "code",
      "execution_count": null,
      "metadata": {
        "id": "-pRFkQinzRtK"
      },
      "outputs": [],
      "source": [
        "urls  = [\n",
        "     (\"Potter_1\",\"https://collect.qmul.ac.uk/down?t=6P0I5CAE7JPPKNDU/4P729FD6DFNO8IT4NNFR458\"),\n",
        "     (\"Potter_2\",\"https://collect.qmul.ac.uk/down?t=452THMOKUOST11V4/4L7IBFL5AJ3AMR45JVV9AC0\"),\n",
        "     (\"StarWars_1\",\"https://collect.qmul.ac.uk/down?t=4HOGB7IH67J8QGL3/5D5TJMIP30DFVC69AQU5ETO\"),\n",
        "     (\"StarWars_2\",\"https://collect.qmul.ac.uk/down?t=4LUHB7IH67J8QGL3/6T5IF3SK8KQTL7FRD2113DO\"),\n",
        "     (\"Panther_1\",\"https://collect.qmul.ac.uk/down?t=6P5DHMOKUOST11V4/45V197K56GJCN375FM97GKO\"),\n",
        "     (\"Panther_2\",\"https://collect.qmul.ac.uk/down?t=556JF9IP9676AAIB/450D7KAI0S5U15VGE2A7MKO\"),\n",
        "     (\"Rain_1\",\"https://collect.qmul.ac.uk/down?t=610DVT8AV0VTD6FQ/4PSHB4CI8V5Q0LTGMBBBVO0\"),\n",
        "     (\"Rain_2\",\"https://collect.qmul.ac.uk/down?t=5163F9QO9A6M8AQ8/6P0T9MQO34CVTCEEA6K4AR8\"),\n",
        "     (\"Hakuna_1\",\"https://collect.qmul.ac.uk/down?t=555I92D6GH5I5L9M/59UH97479B4AQOLUKB0QI08\"),\n",
        "     (\"Hakuna_2\",\"https://collect.qmul.ac.uk/down?t=6TF3DEBMAIDN49A6/6L4DRTRS7KUT51CTGADNEN8\"),\n",
        "     (\"Mamma_1\",\"https://collect.qmul.ac.uk/down?t=554DRGJTDMH4I3JF/595DLIDADVHOGJTBM3BRS68\"),\n",
        "     (\"Mamma_2\",\"https://collect.qmul.ac.uk/down?t=4HVHB72J6VS9UK5D/610DRSJH409EFA60BQVQQ20\"),\n",
        "     (\"Showman_1\",\"https://collect.qmul.ac.uk/down?t=5942PCQC7ROPGNTS/6PF33CLHC39AEQ41JJS9AC8\"),\n",
        "     (\"Showman_2\",\"https://collect.qmul.ac.uk/down?t=6132RDI977V9AMLR/6L7J7ETOF7SPSKDEMB5Q81G\"),\n",
        "     (\"Frozen_1\",\"https://collect.qmul.ac.uk/down?t=4LV194DEJH9JLV8U/652DJI5BDRM82DIIPKKCFQ0\"),\n",
        "     (\"Frozen_2\",\"https://collect.qmul.ac.uk/down?t=6TDILDI977V9AMLR/6P4TPGT0A70LC6BHTK7VPMG\"),\n",
        "     (\"Mamma_1\",\"https://collect.qmul.ac.uk/down?t=554DRGJTDMH4I3JF/595DLIDADVHOGJTBM3BRS68\"),\n",
        "     (\"Mamma_2\",\"https://collect.qmul.ac.uk/down?t=4HVHB72J6VS9UK5D/610DRSJH409EFA60BQVQQ20\"),\n",
        "]\n",
        "\n",
        "for url in urls:\n",
        "  print(\"download\",url)\n",
        "  save_path = '/content/drive/MyDrive/Data/{}.zip'.format(url[0])\n",
        "  download_url(url[1], save_path)"
      ]
    },
    {
      "cell_type": "markdown",
      "source": [
        "\n",
        "\n",
        "> 7.4\n",
        "extract zip folders\n",
        "\n"
      ],
      "metadata": {
        "id": "BYpxdxkTUxyl"
      }
    },
    {
      "cell_type": "code",
      "source": [
        "path = '/content/drive/MyDrive/Data'\n",
        "os.listdir(path)\n",
        "\n",
        "sample_path = '/content/drive/MyDrive/Data/*.zip'\n",
        "zip_files = glob.glob(sample_path)\n",
        "len(zip_files)\n",
        "\n",
        "directory_to_extract_to = '/content/drive/MyDrive/Data/ml'\n",
        "#for zip in zip_files:\n",
        "zip_path = '/content/drive/MyDrive/Data/Mamma_2.zip'\n",
        "with zipfile.ZipFile(zip_path, 'r') as zip_ref:\n",
        "    print('extract', zip_path)\n",
        "    zip_ref.extractall(directory_to_extract_to)\n",
        "\n"
      ],
      "metadata": {
        "id": "HDejB1qa2pSv"
      },
      "execution_count": null,
      "outputs": []
    },
    {
      "cell_type": "markdown",
      "source": [
        "\n",
        "\n",
        "# **preprocess file names**\n",
        "some file names are not in the standard format. As we want to extract the song names from them we should first clean up them and in some cases manually correct them. during preprocess, we replace some characters and also rename the song labels that are not correct. The below section show the mapping of the actual song name and the common mistakes of users in naming the songs. we extract some information as like as song name, participant and type of interpretation(whisle/humming) from the file name and put it in the dataframe.\n",
        "\n"
      ],
      "metadata": {
        "id": "CUKY5M5PV2qj"
      }
    },
    {
      "cell_type": "code",
      "source": [
        "song_name_mapping={\n",
        "    \"Potter\":['harry','potterwav','harrypotter'],\n",
        "    \"StarWars\":['star','starswars','startwars','starwar','statwars','imperial','march'],\n",
        "    \"Panther\":['panter','pink','pinkpanther'],\n",
        "    \"Rain\":['singing','singingintherain'],\n",
        "    \"Hakuna\":['hakana','haknua','hakunamatata','hukuna'],\n",
        "    \"Mamma\":['mummamia','mumma','mamia','mamamia','mama'],\n",
        "    \"Showman\":['this','thisisme','snowman'],\n",
        "    \"Frozen\":['letitgo']\n",
        "}"
      ],
      "metadata": {
        "id": "B26tvSVjq1B8"
      },
      "execution_count": null,
      "outputs": []
    },
    {
      "cell_type": "code",
      "source": [
        "sample_path = '/content/drive/MyDrive/Data/ml/*.wav'\n",
        "files = glob.glob(sample_path)\n",
        "print('count',len(files))\n",
        "\n",
        "def preprocess_file_names(files):\n",
        "  MLENDHW_table = [] \n",
        "\n",
        "  for file in files:\n",
        "\n",
        "    try:\n",
        "      file_id = file.split('/')[-1]\n",
        "      file_name = file.split('/')[-1]\n",
        "      file_name=file_name.replace(' ','_')\n",
        "      file_name=file_name.replace('[','_')\n",
        "      file_name=file_name.replace(']','_')\n",
        "      file_name=file_name.replace('(','_')\n",
        "      file_name=file_name.replace(')','_')\n",
        "      file_name=file_name.replace('__','_')\n",
        "      file_name=file_name.replace('__','_')\n",
        "      file_name=file_name.replace('_.','.')\n",
        "      file_name=file_name.lower()\n",
        "\n",
        "      participant_ID = file_name.split('_')[0]\n",
        "      interpretation_type = file_name.split('_')[1]\n",
        "      interpretation_number = file_name.split('_')[2]\n",
        "      song = file_name.split('_')[3].split('.')[0]\n",
        "      if song=='1' or song=='2':\n",
        "        interpretation_type = file_name.split('_')[2]\n",
        "        interpretation_number = file_name.split('_')[3].split('.')[0]\n",
        "        song = file_name.split('_')[1]\n",
        "\n",
        "      for key,val in song_name_mapping.items():\n",
        "        if song in val:\n",
        "          song=key.lower()\n",
        "    except Exception as e:\n",
        "      print(file_name)\n",
        "\n",
        "    MLENDHW_table.append([file_id,participant_ID,interpretation_type,interpretation_number, song])\n",
        "\n",
        "  MLENDHW_df = pd.DataFrame(MLENDHW_table,columns=['file_id','participant','interpretation','number','song']).set_index('file_id') \n",
        "  print(MLENDHW_df.count())\n",
        "  return MLENDHW_df"
      ],
      "metadata": {
        "id": "4NZRxjAp8mlB",
        "colab": {
          "base_uri": "https://localhost:8080/"
        },
        "outputId": "e758916b-bec3-4631-81e6-8c858de5049b"
      },
      "execution_count": null,
      "outputs": [
        {
          "output_type": "stream",
          "name": "stdout",
          "text": [
            "count 3237\n",
            "participant       3237\n",
            "interpretation    3237\n",
            "number            3237\n",
            "song              3237\n",
            "dtype: int64\n"
          ]
        }
      ]
    },
    {
      "cell_type": "code",
      "source": [
        "MLENDHW_df=preprocess_file_names(files)"
      ],
      "metadata": {
        "id": "QyiWDQnbAJlG"
      },
      "execution_count": null,
      "outputs": []
    },
    {
      "cell_type": "markdown",
      "source": [
        "\n",
        "\n",
        "# **Analyse dataset**\n",
        "\n",
        "Now we should check the diversity of data that we have, we use group by on the song column of our data frame so in the result we can see that we have 8 different song and approx 400 files belong to each category. so we have 8 different class and a balanced dataset because each class have the same number of samples in it\n",
        "\n"
      ],
      "metadata": {
        "id": "WG5wNBO4vi_i"
      }
    },
    {
      "cell_type": "code",
      "source": [
        "MLENDHW_df.groupby('song').size()"
      ],
      "metadata": {
        "id": "6ru2Cm0XRhU7",
        "colab": {
          "base_uri": "https://localhost:8080/"
        },
        "outputId": "abf22e87-adcb-4347-aee6-2a191aca1dcf"
      },
      "execution_count": null,
      "outputs": [
        {
          "output_type": "execute_result",
          "data": {
            "text/plain": [
              "song\n",
              "frozen      410\n",
              "hakuna      412\n",
              "mamma       412\n",
              "panther     413\n",
              "potter      411\n",
              "rain        413\n",
              "showman     353\n",
              "starwars    413\n",
              "dtype: int64"
            ]
          },
          "metadata": {},
          "execution_count": 8
        }
      ]
    },
    {
      "cell_type": "markdown",
      "source": [
        "\n",
        "\n",
        "# > **Feature Extraction**\n",
        "\n",
        "\n",
        "\n",
        "\n"
      ],
      "metadata": {
        "id": "yrk9y0qthWY_"
      }
    },
    {
      "cell_type": "markdown",
      "source": [
        "> define digit labels for our samples, we have 8 class and 8 different song label. so the digit labels are from 0 to 7\n"
      ],
      "metadata": {
        "id": "u723zhBWZ-3X"
      }
    },
    {
      "cell_type": "code",
      "source": [
        "digit_labels = {\n",
        "'frozen':0,\n",
        "'hakuna':1,\n",
        "'mamma':2,\n",
        "'panther':3,\n",
        "'potter':4,\n",
        "'rain':5,\n",
        "'showman':6,\n",
        "'starwars':7\n",
        "}"
      ],
      "metadata": {
        "id": "hYSpRs0jZ8vn"
      },
      "execution_count": null,
      "outputs": []
    },
    {
      "cell_type": "markdown",
      "source": [
        "\n",
        "\n",
        "> define functions to extract 5 features from audio files(samples) and replace text label with digit label\n",
        "\n"
      ],
      "metadata": {
        "id": "5hO9k8ueaY0O"
      }
    },
    {
      "cell_type": "code",
      "source": [
        "def getPitch(x,fs,winLen=0.02):\n",
        "  #winLen = 0.02 \n",
        "  p = winLen*fs\n",
        "  frame_length = int(2**int(p-1).bit_length())\n",
        "  hop_length = frame_length//2\n",
        "  f0, voiced_flag, voiced_probs = librosa.pyin(y=x, fmin=80, fmax=450, sr=fs,\n",
        "                                                 frame_length=frame_length,hop_length=hop_length)\n",
        "  return f0,voiced_flag"
      ],
      "metadata": {
        "id": "lTkx-G4gPKJ-"
      },
      "execution_count": null,
      "outputs": []
    },
    {
      "cell_type": "code",
      "execution_count": null,
      "metadata": {
        "id": "NEMwPrVmMHZa"
      },
      "outputs": [],
      "source": [
        "def getXy(files,labels_file, scale_audio=False, onlySingleDigit=False):\n",
        "  X,y =[],[]\n",
        "  for file in tqdm(files):\n",
        "    fileID = file.split('/')[-1]\n",
        "    file_name = file.split('/')[-1]\n",
        "    #print(file_name)\n",
        "    #print(labels_file.loc[fileID]['interpretation'])\n",
        "    #print(labels_file.loc[fileID]['interpretation']=='hum')\n",
        "    #yi = list(labels_file.loc[fileID]['interpretation'])[0]=='hum'\n",
        "    yi = digit_labels[labels_file.loc[fileID]['song']]\n",
        "\n",
        "    fs = None # if None, fs would be 22050\n",
        "    x, fs = librosa.load(file,sr=fs)\n",
        "    if scale_audio: x = x/np.max(np.abs(x))\n",
        "    f0, voiced_flag = getPitch(x,fs,winLen=0.02)\n",
        "      \n",
        "    power = np.sum(x**2)/len(x)\n",
        "    pitch_mean = np.nanmean(f0) if np.mean(np.isnan(f0))<1 else 0\n",
        "    pitch_std  = np.nanstd(f0) if np.mean(np.isnan(f0))<1 else 0\n",
        "    voiced_fr = np.mean(voiced_flag)\n",
        "    zero_crossings = sum(librosa.zero_crossings(x, pad=False))\n",
        "\n",
        "    xi = [power,pitch_mean,pitch_std,voiced_fr,zero_crossings]\n",
        "    X.append(xi)\n",
        "    y.append(yi)\n",
        "\n",
        "  return np.array(X),np.array(y)"
      ]
    },
    {
      "cell_type": "markdown",
      "source": [
        "\n",
        "\n",
        "> pass the samples to method and get the vector of features X, and labels y\n",
        "\n"
      ],
      "metadata": {
        "id": "WjtBf3zrc-TB"
      }
    },
    {
      "cell_type": "code",
      "source": [
        "X,y = getXy(files, labels_file=MLENDHW_df, scale_audio=True, onlySingleDigit=True)"
      ],
      "metadata": {
        "colab": {
          "base_uri": "https://localhost:8080/"
        },
        "id": "UPlxFw3CdP_Z",
        "outputId": "a4a8e0b1-a680-426e-a37e-aecf575b38e6"
      },
      "execution_count": null,
      "outputs": [
        {
          "output_type": "stream",
          "name": "stderr",
          "text": [
            "100%|██████████| 32/32 [01:58<00:00,  3.69s/it]\n"
          ]
        }
      ]
    },
    {
      "cell_type": "markdown",
      "source": [
        "\n",
        "\n",
        "> feature extraction takes time for this number of samples, so we save the result in a file to have it for our later progress\n",
        "\n"
      ],
      "metadata": {
        "id": "l90zYkH6ddTY"
      }
    },
    {
      "cell_type": "code",
      "source": [
        "np.save('X.npy', X)\n",
        "np.save('y.npy', y)"
      ],
      "metadata": {
        "id": "ueYgwjQxkkIm"
      },
      "execution_count": null,
      "outputs": []
    },
    {
      "cell_type": "markdown",
      "source": [
        "\n",
        "\n",
        "> load the feature data and check if the shape is correct, for X we have 3237 rows(samples) and 5 columns(features). for y we have 3237 rows(labels)\n",
        "\n"
      ],
      "metadata": {
        "id": "J3ghlbI5eswZ"
      }
    },
    {
      "cell_type": "code",
      "source": [
        "X= np.load('X.npy')\n",
        "y= np.load('y.npy')\n",
        "print(X.shape,'X')\n",
        "print(y.shape, 'y')"
      ],
      "metadata": {
        "colab": {
          "base_uri": "https://localhost:8080/"
        },
        "id": "Rz2xs0nQbw68",
        "outputId": "b6d031f3-4ac5-4a5d-b5c3-18481fcfe141"
      },
      "execution_count": null,
      "outputs": [
        {
          "output_type": "stream",
          "name": "stdout",
          "text": [
            "(3237, 5) X\n",
            "(3237,) y\n"
          ]
        }
      ]
    },
    {
      "cell_type": "markdown",
      "metadata": {
        "id": "-CYdZsYKP8Xg"
      },
      "source": [
        "# 8 Results"
      ]
    },
    {
      "cell_type": "markdown",
      "source": [
        "\n",
        "\n",
        "> first we split the data to train and validation with the rate of train=70% and validation=30%\n",
        "\n"
      ],
      "metadata": {
        "id": "A6-AI5oZRvOt"
      }
    },
    {
      "cell_type": "code",
      "source": [
        "\n",
        "#y = label_binarize(y, classes=list(digit_labels.values()))\n",
        "#n_classes = y.shape[1]\n",
        "X_train, X_val, y_train, y_val = train_test_split(X,y,test_size=0.3)\n",
        "X_train.shape, X_val.shape, y_train.shape, y_val.shape"
      ],
      "metadata": {
        "colab": {
          "base_uri": "https://localhost:8080/"
        },
        "id": "Wi7mKM5cIWPB",
        "outputId": "7e21b2ea-8bb2-4b87-9be2-7387dc3f1b59"
      },
      "execution_count": null,
      "outputs": [
        {
          "output_type": "execute_result",
          "data": {
            "text/plain": [
              "((2265, 5), (972, 5), (2265,), (972,))"
            ]
          },
          "metadata": {},
          "execution_count": 20
        }
      ]
    },
    {
      "cell_type": "markdown",
      "source": [
        "\n",
        "\n",
        "> normalise the feature with standard deviation and mean\n",
        "\n"
      ],
      "metadata": {
        "id": "sjWSmkdiSGWY"
      }
    },
    {
      "cell_type": "code",
      "source": [
        "from sklearn.preprocessing import StandardScaler\n",
        "scaler = StandardScaler()\n",
        "X_train_scaled = scaler.fit_transform(X_train)\n",
        "# note that the test set using the fitted scaler in train dataset to transform in the test set\n",
        "X_val_scaled = scaler.transform(X_val)"
      ],
      "metadata": {
        "id": "se1go3HPFtS_"
      },
      "execution_count": null,
      "outputs": []
    },
    {
      "cell_type": "markdown",
      "source": [
        "\n",
        "\n",
        "> based on the state of the art resaerch papers that we look, for our problem we should use Neural Network methods. like RNN and CNN, but we dont have enough experience in these methods so decided to use the classifiers that we had in our labs.\n",
        "\n",
        "First we want to try k nearest neighbor method on our data and visualise the accuracy for different value of k.\n",
        "we use the splited train and validation samples from previus section which is normalised.\n",
        "\n"
      ],
      "metadata": {
        "id": "N85Tab_kSSYx"
      }
    },
    {
      "cell_type": "markdown",
      "source": [
        "**KNN**"
      ],
      "metadata": {
        "id": "FNLr8PhF11Lf"
      }
    },
    {
      "cell_type": "code",
      "metadata": {
        "id": "IqEr6UXAkEeX",
        "colab": {
          "base_uri": "https://localhost:8080/",
          "height": 445
        },
        "outputId": "91e71838-ba8c-42f4-e9bd-b7feb6f8df34"
      },
      "source": [
        "from google.colab import widgets\n",
        "from sklearn import neighbors\n",
        "from matplotlib.colors import ListedColormap\n",
        "\n",
        "k_values = range(1,75,6)\n",
        "\n",
        "accuracy_t = dict.fromkeys(k_values)\n",
        "accuracy_v = dict.fromkeys(k_values)\n",
        "\n",
        "for k in k_values:\n",
        "\n",
        "  # First we create the kNN model\n",
        "  knn = neighbors.KNeighborsClassifier(n_neighbors=k)\n",
        "  knn.fit(X_train, y_train)\n",
        "\n",
        "  # Finally we calculate the validation accuracy\n",
        "  y_val_pred = knn.predict(X_val)\n",
        "  accuracy_v[k] = np.sum(y_val==y_val_pred)/len(y_val)\n",
        "\n",
        "  # Training accuracy\n",
        "  y_train_pred = knn.predict(X_train)\n",
        "  accuracy_t[k] = np.sum(y_train==y_train_pred)/len(y_train)\n",
        "\n",
        "# Here we predict the value of the validation accuracy as a function of k\n",
        "plt.figure(figsize=(7, 7))\n",
        "plt.plot(k_values, list(accuracy_v.values()), '--*', linewidth=2)\n",
        "plt.plot(k_values, list(accuracy_t.values()), '--*', linewidth=2, color='red')\n",
        "plt.xlabel(\"k\", fontsize=12)\n",
        "plt.ylabel(\"Accuracy\", fontsize=12)\n",
        "plt.grid(alpha=0.2)\n",
        "plt.show()"
      ],
      "execution_count": null,
      "outputs": [
        {
          "output_type": "display_data",
          "data": {
            "text/plain": [
              "<Figure size 504x504 with 1 Axes>"
            ],
            "image/png": "[encoded data removed]"
          },
          "metadata": {
            "needs_background": "light"
          }
        }
      ]
    },
    {
      "cell_type": "markdown",
      "source": [
        "# **result**\n",
        "as we see in the graph it seems this method is not suitable for our situation(problem and dataset), the accuracy of validation is less than 0.2 for all k values, even we dont have a high accuracy in train samples, lets try another methods and see the result"
      ],
      "metadata": {
        "id": "phAmMKgkd5Yz"
      }
    },
    {
      "cell_type": "markdown",
      "source": [
        "# **model selection**\n",
        "In this section, we use the k-fold cross-validation method to split our samples to train and validate then we create 5 different classifiers separately (SVM, DecisionTree, RandomForest, GradientBoostingClassifier, LogisticRegression) to model our data and compare the accuracy of them. \n",
        "\n",
        "the train and validation accuracy of each type of classifier is placed in the comments below it. the train acc of random forest is 0.6809434350825921 and validation acc is 0.34507280589170025 so we dont have overfitting or underfitting.\n",
        "the result is that the random forest has higher accuracy in comparison to 4 other classifiers. so we choose this method as our classifier\n"
      ],
      "metadata": {
        "id": "9dQdseYN6yWg"
      }
    },
    {
      "cell_type": "code",
      "source": [
        "from sklearn.model_selection import RepeatedKFold\n",
        "from sklearn.preprocessing import StandardScaler\n",
        "from sklearn import tree\n",
        "from sklearn.ensemble import RandomForestClassifier\n",
        "from sklearn.datasets import make_hastie_10_2\n",
        "from sklearn.ensemble import GradientBoostingClassifier\n",
        "from sklearn.linear_model import LogisticRegression\n",
        "\n",
        "\n",
        "#kfold params\n",
        "random_state = 12883823\n",
        "rkf = RepeatedKFold(n_splits=8, n_repeats=2, random_state=random_state)\n",
        "train_acc = []\n",
        "val_acc = []\n",
        "\n",
        "epoch = 0\n",
        "for train, test in rkf.split(X):\n",
        "\n",
        "  epoch = epoch + 1\n",
        "  print(\"epoch number {}\".format(epoch))\n",
        "\n",
        "  X_train, X_test, y_train, y_test = X[train], X[test], y[train], y[test]\n",
        "\n",
        "  #normalize features\n",
        "  scaler = StandardScaler()\n",
        "  X_train_scaled = scaler.fit_transform(X_train)\n",
        "  X_val_scaled = scaler.transform(X_test)\n",
        "\n",
        "  #SVM\n",
        "  #model = svm.SVC(C=1,gamma=2,probability=True)\n",
        "  #train_acc 0.5933186026621278\n",
        "  #val_acc 0.3029049779977998\n",
        "\n",
        "  #DecisionTree\n",
        "  #model = tree.DecisionTreeClassifier(min_samples_split=150)\n",
        "  #train_acc 0.35877495588962605\n",
        "  #val_acc 0.3072290215132624\n",
        "\n",
        "  #RandomForest\n",
        "  model = RandomForestClassifier(max_depth=8, random_state=1)\n",
        "  #train_acc 0.6809434350825921\n",
        "  #val_acc 0.34507280589170025\n",
        "\n",
        "  #GradientBoostingClassifier\n",
        "  #model = GradientBoostingClassifier(n_estimators=100, learning_rate=1.0, max_depth=1, random_state=0)\n",
        "  #train_acc 0.42190754682505016\n",
        "  #val_acc 0.32205453184207306\n",
        "\n",
        "  #LogisticRegression\n",
        "  #model = LogisticRegression(C=1e5, solver='lbfgs', multi_class='multinomial')\n",
        "  #train_acc 0.24661248157809196\n",
        "  #val_acc 0.23478639530619727\n",
        "  \n",
        "  model.fit(X_train_scaled,y_train)\n",
        "\n",
        "  yt_p = model.predict(X_train_scaled)\n",
        "  yv_p = model.predict(X_val_scaled)\n",
        "\n",
        "  train_acc.append(np.mean(yt_p==y_train))\n",
        "  val_acc.append(np.mean(yv_p==y_test))\n",
        "\n",
        "print('train_acc',sum(train_acc)/len(train_acc))\n",
        "print('val_acc',sum(val_acc)/len(val_acc))"
      ],
      "metadata": {
        "colab": {
          "base_uri": "https://localhost:8080/"
        },
        "outputId": "523d7df8-6854-492a-cfb5-054f6e3b2ca0",
        "id": "MWR7jQtwqRGF"
      },
      "execution_count": null,
      "outputs": [
        {
          "output_type": "stream",
          "name": "stdout",
          "text": [
            "epoch number 1\n",
            "epoch number 2\n",
            "epoch number 3\n",
            "epoch number 4\n",
            "epoch number 5\n",
            "epoch number 6\n",
            "epoch number 7\n",
            "epoch number 8\n",
            "epoch number 9\n",
            "epoch number 10\n",
            "epoch number 11\n",
            "epoch number 12\n",
            "epoch number 13\n",
            "epoch number 14\n",
            "epoch number 15\n",
            "epoch number 16\n",
            "train_acc 0.6809434350825921\n",
            "val_acc 0.34507280589170025\n"
          ]
        }
      ]
    },
    {
      "cell_type": "markdown",
      "source": [
        "# **ROC**\n",
        "now we select the random forest as our classifier based on accuracy, we also want to evaluate the result of this selected classifier by the ROC method. ROC method is suitable for binary classification problems so we should make our multi-class problem suitable to evaluate with ROC. for this purpose we should implement the one vs all classification approach. in this approach, the samples are classified as label x or label y, in which label x is one of our class labels and label y points to all other class labels except x."
      ],
      "metadata": {
        "id": "OwrGmHAX7HH6"
      }
    },
    {
      "cell_type": "code",
      "source": [
        "from sklearn.model_selection import RepeatedKFold\n",
        "from sklearn.preprocessing import StandardScaler\n",
        "from sklearn import tree\n",
        "from sklearn.ensemble import RandomForestClassifier\n",
        "from sklearn.datasets import make_hastie_10_2\n",
        "from sklearn.ensemble import GradientBoostingClassifier\n",
        "from sklearn.linear_model import LogisticRegression\n",
        "\n",
        "#load features and lables from file that we stored before\n",
        "X= np.load('X.npy')\n",
        "y= np.load('y.npy')\n",
        "\n",
        "#we should binarize the lables as one label vs all other labels\n",
        "y = label_binarize(y, classes=list(digit_labels.values()))\n",
        "n_classes = y.shape[1]\n",
        "\n",
        "#split the data to train and test\n",
        "X_train, X_val, y_train, y_val = train_test_split(X,y,test_size=0.3)\n",
        "X_train.shape, X_val.shape, y_train.shape, y_val.shape\n",
        "\n",
        "#normalize data\n",
        "from sklearn.preprocessing import StandardScaler\n",
        "scaler = StandardScaler()\n",
        "X_train_scaled = scaler.fit_transform(X_train)\n",
        "X_val_scaled = scaler.transform(X_val)\n",
        "\n",
        "#define one vs all classifier\n",
        "# Learn to predict each class against the other\n",
        "#RandomForest\n",
        "classifier = OneVsRestClassifier(RandomForestClassifier(max_depth=8, random_state=1))\n",
        "classifier.fit(X_train_scaled, y_train)\n",
        "y_score = classifier.predict_proba(X_val_scaled)"
      ],
      "metadata": {
        "id": "3E8QrFn_7K0L"
      },
      "execution_count": null,
      "outputs": []
    },
    {
      "cell_type": "code",
      "source": [
        "# Compute ROC curve and ROC area for each class\n",
        "fpr = dict()\n",
        "tpr = dict()\n",
        "roc_auc = dict()\n",
        "n_classes = 8\n",
        "for i in range(n_classes):\n",
        "    fpr[i], tpr[i], _ = roc_curve(y_val[:, i], y_score[:, i])\n",
        "    roc_auc[i] = auc(fpr[i], tpr[i])\n",
        "\n",
        "# Compute micro-average ROC curve and ROC area\n",
        "fpr[\"micro\"], tpr[\"micro\"], _ = roc_curve(y_val.ravel(), y_score.ravel())\n",
        "roc_auc[\"micro\"] = auc(fpr[\"micro\"], tpr[\"micro\"])"
      ],
      "metadata": {
        "id": "drsWTgfESRWJ"
      },
      "execution_count": null,
      "outputs": []
    },
    {
      "cell_type": "code",
      "source": [
        "prop_cycle = plt.rcParams['axes.prop_cycle']\n",
        "colors = prop_cycle.by_key()['color']\n",
        "# First aggregate all false positive rates\n",
        "all_fpr = np.unique(np.concatenate([fpr[i] for i in range(n_classes)]))\n",
        "\n",
        "# Then interpolate all ROC curves at this points\n",
        "mean_tpr = np.zeros_like(all_fpr)\n",
        "for i in range(n_classes):\n",
        "    mean_tpr += np.interp(all_fpr, fpr[i], tpr[i])\n",
        "\n",
        "# Finally average it and compute AUC\n",
        "mean_tpr /= n_classes\n",
        "\n",
        "fpr[\"macro\"] = all_fpr\n",
        "tpr[\"macro\"] = mean_tpr\n",
        "roc_auc[\"macro\"] = auc(fpr[\"macro\"], tpr[\"macro\"])\n",
        "\n",
        "# Plot all ROC curves\n",
        "plt.figure()\n",
        "plt.plot(\n",
        "    fpr[\"micro\"],\n",
        "    tpr[\"micro\"],\n",
        "    label=\"micro-average ROC curve (area = {0:0.2f})\".format(roc_auc[\"micro\"]),\n",
        "    color=\"deeppink\",\n",
        "    linestyle=\":\",\n",
        "    linewidth=4,\n",
        ")\n",
        "\n",
        "plt.plot(\n",
        "    fpr[\"macro\"],\n",
        "    tpr[\"macro\"],\n",
        "    label=\"macro-average ROC curve (area = {0:0.2f})\".format(roc_auc[\"macro\"]),\n",
        "    color=\"navy\",\n",
        "    linestyle=\":\",\n",
        "    linewidth=4,\n",
        ")\n",
        "lw = 2\n",
        "#colors = cycle([\"aqua\", \"darkorange\", \"cornflowerblue\"])\n",
        "for i, color in zip(range(n_classes), colors):\n",
        "    plt.plot(\n",
        "        fpr[i],\n",
        "        tpr[i],\n",
        "        color=color,\n",
        "        lw=lw,\n",
        "        label=\"ROC curve of class {0} (area = {1:0.2f})\".format(i, roc_auc[i]),\n",
        "    )\n",
        "\n",
        "plt.plot([0, 1], [0, 1], \"k--\", lw=lw)\n",
        "plt.xlim([0.0, 1.0])\n",
        "plt.ylim([0.0, 1.05])\n",
        "plt.xlabel(\"False Positive Rate\")\n",
        "plt.ylabel(\"True Positive Rate\")\n",
        "plt.legend(loc=\"lower right\")\n",
        "plt.show()\n"
      ],
      "metadata": {
        "colab": {
          "base_uri": "https://localhost:8080/",
          "height": 295
        },
        "id": "P0pY7cgfFAkz",
        "outputId": "cb80d89a-126e-481d-973d-fa2965fa3146"
      },
      "execution_count": null,
      "outputs": [
        {
          "output_type": "display_data",
          "data": {
            "text/plain": [
              "<Figure size 432x288 with 1 Axes>"
            ],
            "image/png": "[encoded data removed]"
          },
          "metadata": {
            "needs_background": "light"
          }
        }
      ]
    },
    {
      "cell_type": "markdown",
      "source": [
        "# **result**\n",
        "we can see that all classifire for each label are above the random classifier. if we take a look at the curve area of each classifier(for each label) we can see that the random area is 0.72 and half of the classifiers area are more than this value."
      ],
      "metadata": {
        "id": "QX7pYD4ltO7L"
      }
    },
    {
      "cell_type": "markdown",
      "metadata": {
        "id": "fSrJCR_cekPO"
      },
      "source": [
        "# 9 Conclusions\n",
        "we have some doubts about the correctness of our data, some songs may not be the same as their name or some audio files may empty records so we have the outlier in our data which will cause misclassification and there is no easy way to get rid of these kinds of samples. \n",
        "\n",
        "**Improvement**\n",
        "\n",
        "- For improvement, the easiest way is to tune the parameters of the classifier \n",
        "and find the one which brings high accuracy for our trained model. \n",
        "\n",
        "- also, we can take a look at the confusion matrix and find out some misclassified songs then listen to each song and compare it to the song which is belonged to the class that the model assign to the first song wrongly to find out what is the problem we may find a solution for it by add/remove one feature to our samples.\n",
        "\n",
        "- another suggestion is, they are some organized and trustable hum/whistle datasets that we can use alongside our own dataset"
      ]
    },
    {
      "cell_type": "markdown",
      "source": [
        "# **Test**\n",
        "Lets have some fun and see if our model can predict the unseen samples of hum/whisle of myself correct.\n",
        "I have my own whisle/hum audio files, and I find the random id that assigned to me in demographic data that published recently. it is s271, so I should search it in our dataset information and check if it is exist or not. "
      ],
      "metadata": {
        "id": "1M-qJLWu6Ohr"
      }
    },
    {
      "cell_type": "code",
      "source": [
        "MLENDHW_df[MLENDHW_df['participant'].str.contains(\"s271\")]"
      ],
      "metadata": {
        "colab": {
          "base_uri": "https://localhost:8080/",
          "height": 81
        },
        "id": "-OEUFSdVdLEy",
        "outputId": "33564545-e713-4dda-b09f-c3abe142beeb"
      },
      "execution_count": null,
      "outputs": [
        {
          "output_type": "execute_result",
          "data": {
            "text/plain": [
              "Empty DataFrame\n",
              "Columns: [participant, interpretation, number, song]\n",
              "Index: []"
            ],
            "text/html": [
              "\n",
              "  <div id=\"df-5b1b98f4-9d42-4558-a436-273698f5b9a4\">\n",
              "    <div class=\"colab-df-container\">\n",
              "      <div>\n",
              "<style scoped>\n",
              "    .dataframe tbody tr th:only-of-type {\n",
              "        vertical-align: middle;\n",
              "    }\n",
              "\n",
              "    .dataframe tbody tr th {\n",
              "        vertical-align: top;\n",
              "    }\n",
              "\n",
              "    .dataframe thead th {\n",
              "        text-align: right;\n",
              "    }\n",
              "</style>\n",
              "<table border=\"1\" class=\"dataframe\">\n",
              "  <thead>\n",
              "    <tr style=\"text-align: right;\">\n",
              "      <th></th>\n",
              "      <th>participant</th>\n",
              "      <th>interpretation</th>\n",
              "      <th>number</th>\n",
              "      <th>song</th>\n",
              "    </tr>\n",
              "    <tr>\n",
              "      <th>file_id</th>\n",
              "      <th></th>\n",
              "      <th></th>\n",
              "      <th></th>\n",
              "      <th></th>\n",
              "    </tr>\n",
              "  </thead>\n",
              "  <tbody>\n",
              "  </tbody>\n",
              "</table>\n",
              "</div>\n",
              "      <button class=\"colab-df-convert\" onclick=\"convertToInteractive('df-5b1b98f4-9d42-4558-a436-273698f5b9a4')\"\n",
              "              title=\"Convert this dataframe to an interactive table.\"\n",
              "              style=\"display:none;\">\n",
              "        \n",
              "  <svg xmlns=\"http://www.w3.org/2000/svg\" height=\"24px\"viewBox=\"0 0 24 24\"\n",
              "       width=\"24px\">\n",
              "    <path d=\"M0 0h24v24H0V0z\" fill=\"none\"/>\n",
              "    <path d=\"M18.56 5.44l.94 2.06.94-2.06 2.06-.94-2.06-.94-.94-2.06-.94 2.06-2.06.94zm-11 1L8.5 8.5l.94-2.06 2.06-.94-2.06-.94L8.5 2.5l-.94 2.06-2.06.94zm10 10l.94 2.06.94-2.06 2.06-.94-2.06-.94-.94-2.06-.94 2.06-2.06.94z\"/><path d=\"M17.41 7.96l-1.37-1.37c-.4-.4-.92-.59-1.43-.59-.52 0-1.04.2-1.43.59L10.3 9.45l-7.72 7.72c-.78.78-.78 2.05 0 2.83L4 21.41c.39.39.9.59 1.41.59.51 0 1.02-.2 1.41-.59l7.78-7.78 2.81-2.81c.8-.78.8-2.07 0-2.86zM5.41 20L4 18.59l7.72-7.72 1.47 1.35L5.41 20z\"/>\n",
              "  </svg>\n",
              "      </button>\n",
              "      \n",
              "  <style>\n",
              "    .colab-df-container {\n",
              "      display:flex;\n",
              "      flex-wrap:wrap;\n",
              "      gap: 12px;\n",
              "    }\n",
              "\n",
              "    .colab-df-convert {\n",
              "      background-color: #E8F0FE;\n",
              "      border: none;\n",
              "      border-radius: 50%;\n",
              "      cursor: pointer;\n",
              "      display: none;\n",
              "      fill: #1967D2;\n",
              "      height: 32px;\n",
              "      padding: 0 0 0 0;\n",
              "      width: 32px;\n",
              "    }\n",
              "\n",
              "    .colab-df-convert:hover {\n",
              "      background-color: #E2EBFA;\n",
              "      box-shadow: 0px 1px 2px rgba(60, 64, 67, 0.3), 0px 1px 3px 1px rgba(60, 64, 67, 0.15);\n",
              "      fill: #174EA6;\n",
              "    }\n",
              "\n",
              "    [theme=dark] .colab-df-convert {\n",
              "      background-color: #3B4455;\n",
              "      fill: #D2E3FC;\n",
              "    }\n",
              "\n",
              "    [theme=dark] .colab-df-convert:hover {\n",
              "      background-color: #434B5C;\n",
              "      box-shadow: 0px 1px 3px 1px rgba(0, 0, 0, 0.15);\n",
              "      filter: drop-shadow(0px 1px 2px rgba(0, 0, 0, 0.3));\n",
              "      fill: #FFFFFF;\n",
              "    }\n",
              "  </style>\n",
              "\n",
              "      <script>\n",
              "        const buttonEl =\n",
              "          document.querySelector('#df-5b1b98f4-9d42-4558-a436-273698f5b9a4 button.colab-df-convert');\n",
              "        buttonEl.style.display =\n",
              "          google.colab.kernel.accessAllowed ? 'block' : 'none';\n",
              "\n",
              "        async function convertToInteractive(key) {\n",
              "          const element = document.querySelector('#df-5b1b98f4-9d42-4558-a436-273698f5b9a4');\n",
              "          const dataTable =\n",
              "            await google.colab.kernel.invokeFunction('convertToInteractive',\n",
              "                                                     [key], {});\n",
              "          if (!dataTable) return;\n",
              "\n",
              "          const docLinkHtml = 'Like what you see? Visit the ' +\n",
              "            '<a target=\"_blank\" href=https://colab.research.google.com/notebooks/data_table.ipynb>data table notebook</a>'\n",
              "            + ' to learn more about interactive tables.';\n",
              "          element.innerHTML = '';\n",
              "          dataTable['output_type'] = 'display_data';\n",
              "          await google.colab.output.renderOutput(dataTable, element);\n",
              "          const docLink = document.createElement('div');\n",
              "          docLink.innerHTML = docLinkHtml;\n",
              "          element.appendChild(docLink);\n",
              "        }\n",
              "      </script>\n",
              "    </div>\n",
              "  </div>\n",
              "  "
            ]
          },
          "metadata": {},
          "execution_count": 53
        }
      ]
    },
    {
      "cell_type": "markdown",
      "source": [
        "hopefully, it is not exit in our train/val data. so we can use it as a test data. we should extract the feature from our audios and normalise them and finally pass them to our previous trained model. and see the classification result"
      ],
      "metadata": {
        "id": "vBebyQTu7IPc"
      }
    },
    {
      "cell_type": "code",
      "source": [
        "X_unseen= np.load('X_unseen.npy')\n",
        "y_unseen= np.load('y_unseen.npy')\n",
        "print(X_unseen.shape,'X')\n",
        "print(y_unseen.shape, 'y')"
      ],
      "metadata": {
        "colab": {
          "base_uri": "https://localhost:8080/"
        },
        "outputId": "6801812d-0b1d-4e48-9b8d-58add7661999",
        "id": "Yde52PeZk1lK"
      },
      "execution_count": null,
      "outputs": [
        {
          "output_type": "stream",
          "name": "stdout",
          "text": [
            "(32, 5) X\n",
            "(32,) y\n"
          ]
        }
      ]
    },
    {
      "cell_type": "code",
      "source": [
        "from pandas.compat import numpy\n",
        "#normalize data\n",
        "from sklearn.preprocessing import StandardScaler\n",
        "scaler = StandardScaler()\n",
        "X_unseen_scaled = scaler.fit_transform(X_unseen)\n",
        "\n",
        "#RandomForest\n",
        "y_p_unseen = model.predict(X_unseen_scaled)\n",
        "result = np.column_stack([y_unseen,y_p_unseen])\n",
        "print(result.shape)\n",
        "print(result.T)\n",
        "print('actual y',[list(digit_labels.keys())[list(digit_labels.values()).index(x)] for x in y_unseen])\n",
        "print('predicted y',[list(digit_labels.keys())[list(digit_labels.values()).index(x)] for x in y_p_unseen])\n",
        "print('acc is {}'.format(np.mean(y_p_unseen==y_unseen)))"
      ],
      "metadata": {
        "colab": {
          "base_uri": "https://localhost:8080/"
        },
        "id": "dMRfaZC6lzRW",
        "outputId": "6da93668-1fd7-4bc8-e4f9-283b9b1c76c3"
      },
      "execution_count": null,
      "outputs": [
        {
          "output_type": "stream",
          "name": "stdout",
          "text": [
            "(32, 2)\n",
            "[[4 4 4 4 4 4 4 4 4 4 4 4 4 4 4 4 4 4 4 4 4 4 4 4 4 4 4 4 4 4 4 4]\n",
            " [4 2 2 1 4 3 1 1 0 5 0 0 2 2 1 1 1 2 0 2 2 0 2 1 4 0 2 2 0 4 0 0]]\n",
            "actual y ['potter', 'potter', 'potter', 'potter', 'potter', 'potter', 'potter', 'potter', 'potter', 'potter', 'potter', 'potter', 'potter', 'potter', 'potter', 'potter', 'potter', 'potter', 'potter', 'potter', 'potter', 'potter', 'potter', 'potter', 'potter', 'potter', 'potter', 'potter', 'potter', 'potter', 'potter', 'potter']\n",
            "predicted y ['potter', 'mamma', 'mamma', 'hakuna', 'potter', 'panther', 'hakuna', 'hakuna', 'frozen', 'rain', 'frozen', 'frozen', 'mamma', 'mamma', 'hakuna', 'hakuna', 'hakuna', 'mamma', 'frozen', 'mamma', 'mamma', 'frozen', 'mamma', 'hakuna', 'potter', 'frozen', 'mamma', 'mamma', 'frozen', 'potter', 'frozen', 'frozen']\n",
            "acc is 0.125\n"
          ]
        }
      ]
    }
  ]
}